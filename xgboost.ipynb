{
 "cells": [
  {
   "cell_type": "code",
   "execution_count": 2,
   "metadata": {},
   "outputs": [],
   "source": [
    "import pandas as pd\n",
    "from sklearn.model_selection import train_test_split\n",
    "from xgboost import XGBClassifier\n",
    "from sklearn.metrics import confusion_matrix, accuracy_score\n",
    "from sklearn.metrics import precision_score, recall_score\n",
    "from sklearn.metrics import f1_score, roc_auc_score\n"
   ]
  },
  {
   "cell_type": "code",
   "execution_count": 3,
   "metadata": {},
   "outputs": [],
   "source": [
    "# DATA load\n",
    "X = pd.read_csv('./content/loan_train_preprocessed.csv')\n",
    "\n",
    "# backward\n",
    "X = X[['term', 'initial_list_status', 'int_rate', \n",
    "'emp_length', 'annual_inc', 'dti', 'delinq_2yrs', \n",
    "'inq_last_6mths', 'revol_util', 'recoveries', \n",
    "'collection_recovery_fee', 'tot_cur_bal', \n",
    "'home_ownershipRENT', 'purposesmall_business', \n",
    "'purposewedding', 'earliest_cr_line2000']]\n",
    "\n",
    "y = pd.read_csv('./content/loan_train_label.csv')\n",
    "y = y.drop(['id'], axis=1)"
   ]
  },
  {
   "cell_type": "code",
   "execution_count": 4,
   "metadata": {},
   "outputs": [
    {
     "data": {
      "text/plain": [
       "((10240, 16), (10240, 1), (2560, 16), (2560, 1), (3200, 16), (3200, 1))"
      ]
     },
     "execution_count": 4,
     "metadata": {},
     "output_type": "execute_result"
    }
   ],
   "source": [
    "# Dividing the data into train and test\n",
    "from sklearn.model_selection import train_test_split\n",
    "x_train,x_test,y_train,y_test = train_test_split(X,y,test_size = 0.20 )\n",
    "x_train,x_val,y_train,y_val = train_test_split(x_train,y_train,test_size = 0.20 )\n",
    "\n",
    "x_train.shape,y_train.shape,x_val.shape,y_val.shape,x_test.shape,y_test.shape\n",
    "\n"
   ]
  },
  {
   "cell_type": "code",
   "execution_count": 5,
   "metadata": {},
   "outputs": [],
   "source": [
    "# 수정된 get_clf_eval() 함수 \n",
    "def get_clf_eval(y_test, pred=None, pred_proba=None):\n",
    "    confusion = confusion_matrix( y_test, pred)\n",
    "    accuracy = accuracy_score(y_test , pred)\n",
    "    precision = precision_score(y_test , pred)\n",
    "    recall = recall_score(y_test , pred)\n",
    "    f1 = f1_score(y_test,pred)\n",
    "    # ROC-AUC 추가 \n",
    "    roc_auc = roc_auc_score(y_test, pred_proba)\n",
    "    print('오차 행렬')\n",
    "    print(confusion)\n",
    "    # ROC-AUC print 추가\n",
    "    print('정확도: {0:.4f}, 정밀도: {1:.4f}, 재현율: {2:.4f},\\\n",
    "    F1: {3:.4f}, AUC:{4:.4f}'.format(accuracy, precision, recall, f1, roc_auc))"
   ]
  },
  {
   "cell_type": "code",
   "execution_count": 6,
   "metadata": {},
   "outputs": [
    {
     "name": "stdout",
     "output_type": "stream",
     "text": [
      "[0]\tvalidation_0-logloss:0.67110\n",
      "[1]\tvalidation_0-logloss:0.65323\n",
      "[2]\tvalidation_0-logloss:0.63793\n",
      "[3]\tvalidation_0-logloss:0.62494\n",
      "[4]\tvalidation_0-logloss:0.61419\n",
      "[5]\tvalidation_0-logloss:0.60512\n",
      "[6]\tvalidation_0-logloss:0.59704\n",
      "[7]\tvalidation_0-logloss:0.59038\n",
      "[8]\tvalidation_0-logloss:0.58429\n",
      "[9]\tvalidation_0-logloss:0.57924\n",
      "[10]\tvalidation_0-logloss:0.57523\n",
      "[11]\tvalidation_0-logloss:0.57103\n",
      "[12]\tvalidation_0-logloss:0.56741\n",
      "[13]\tvalidation_0-logloss:0.56457\n",
      "[14]\tvalidation_0-logloss:0.56182\n",
      "[15]\tvalidation_0-logloss:0.55962\n",
      "[16]\tvalidation_0-logloss:0.55739\n",
      "[17]\tvalidation_0-logloss:0.55539\n",
      "[18]\tvalidation_0-logloss:0.55365\n",
      "[19]\tvalidation_0-logloss:0.55212\n",
      "[20]\tvalidation_0-logloss:0.55072\n",
      "[21]\tvalidation_0-logloss:0.54932\n",
      "[22]\tvalidation_0-logloss:0.54795\n",
      "[23]\tvalidation_0-logloss:0.54699\n",
      "[24]\tvalidation_0-logloss:0.54571\n",
      "[25]\tvalidation_0-logloss:0.54480\n",
      "[26]\tvalidation_0-logloss:0.54415\n",
      "[27]\tvalidation_0-logloss:0.54350\n",
      "[28]\tvalidation_0-logloss:0.54273\n",
      "[29]\tvalidation_0-logloss:0.54238\n",
      "[30]\tvalidation_0-logloss:0.54190\n",
      "[31]\tvalidation_0-logloss:0.54145\n",
      "[32]\tvalidation_0-logloss:0.54097\n",
      "[33]\tvalidation_0-logloss:0.54063\n",
      "[34]\tvalidation_0-logloss:0.54005\n",
      "[35]\tvalidation_0-logloss:0.53976\n",
      "[36]\tvalidation_0-logloss:0.53947\n",
      "[37]\tvalidation_0-logloss:0.53901\n",
      "[38]\tvalidation_0-logloss:0.53883\n",
      "[39]\tvalidation_0-logloss:0.53858\n",
      "[40]\tvalidation_0-logloss:0.53825\n",
      "[41]\tvalidation_0-logloss:0.53795\n",
      "[42]\tvalidation_0-logloss:0.53807\n",
      "[43]\tvalidation_0-logloss:0.53812\n"
     ]
    },
    {
     "name": "stderr",
     "output_type": "stream",
     "text": [
      "c:\\Users\\sjsko\\PycharmProjects\\Investment_engineering\\venv\\lib\\site-packages\\xgboost\\sklearn.py:1224: UserWarning: The use of label encoder in XGBClassifier is deprecated and will be removed in a future release. To remove this warning, do the following: 1) Pass option use_label_encoder=False when constructing XGBClassifier object; and 2) Encode your labels (y) as integers starting with 0, i.e. 0, 1, 2, ..., [num_class - 1].\n",
      "  warnings.warn(label_encoder_deprecation_msg, UserWarning)\n",
      "c:\\Users\\sjsko\\PycharmProjects\\Investment_engineering\\venv\\lib\\site-packages\\sklearn\\preprocessing\\_label.py:98: DataConversionWarning: A column-vector y was passed when a 1d array was expected. Please change the shape of y to (n_samples, ), for example using ravel().\n",
      "  y = column_or_1d(y, warn=True)\n",
      "c:\\Users\\sjsko\\PycharmProjects\\Investment_engineering\\venv\\lib\\site-packages\\sklearn\\preprocessing\\_label.py:133: DataConversionWarning: A column-vector y was passed when a 1d array was expected. Please change the shape of y to (n_samples, ), for example using ravel().\n",
      "  y = column_or_1d(y, warn=True)\n"
     ]
    },
    {
     "name": "stdout",
     "output_type": "stream",
     "text": [
      "[44]\tvalidation_0-logloss:0.53765\n",
      "[45]\tvalidation_0-logloss:0.53749\n",
      "[46]\tvalidation_0-logloss:0.53734\n",
      "[47]\tvalidation_0-logloss:0.53716\n",
      "[48]\tvalidation_0-logloss:0.53725\n",
      "[49]\tvalidation_0-logloss:0.53716\n",
      "[50]\tvalidation_0-logloss:0.53731\n",
      "[51]\tvalidation_0-logloss:0.53720\n",
      "[52]\tvalidation_0-logloss:0.53714\n",
      "[53]\tvalidation_0-logloss:0.53699\n",
      "[54]\tvalidation_0-logloss:0.53675\n",
      "[55]\tvalidation_0-logloss:0.53682\n",
      "[56]\tvalidation_0-logloss:0.53669\n",
      "[57]\tvalidation_0-logloss:0.53656\n",
      "[58]\tvalidation_0-logloss:0.53665\n",
      "[59]\tvalidation_0-logloss:0.53650\n",
      "[60]\tvalidation_0-logloss:0.53666\n",
      "[61]\tvalidation_0-logloss:0.53669\n",
      "[62]\tvalidation_0-logloss:0.53680\n",
      "[63]\tvalidation_0-logloss:0.53672\n",
      "[64]\tvalidation_0-logloss:0.53673\n",
      "[65]\tvalidation_0-logloss:0.53675\n",
      "[66]\tvalidation_0-logloss:0.53666\n",
      "[67]\tvalidation_0-logloss:0.53682\n",
      "[68]\tvalidation_0-logloss:0.53703\n",
      "[69]\tvalidation_0-logloss:0.53691\n",
      "[70]\tvalidation_0-logloss:0.53687\n",
      "[71]\tvalidation_0-logloss:0.53698\n",
      "[72]\tvalidation_0-logloss:0.53686\n",
      "[73]\tvalidation_0-logloss:0.53682\n",
      "[74]\tvalidation_0-logloss:0.53690\n",
      "[75]\tvalidation_0-logloss:0.53695\n",
      "[76]\tvalidation_0-logloss:0.53688\n",
      "[77]\tvalidation_0-logloss:0.53694\n",
      "[78]\tvalidation_0-logloss:0.53691\n",
      "[79]\tvalidation_0-logloss:0.53699\n",
      "[80]\tvalidation_0-logloss:0.53716\n",
      "[81]\tvalidation_0-logloss:0.53721\n",
      "[82]\tvalidation_0-logloss:0.53715\n",
      "[83]\tvalidation_0-logloss:0.53711\n",
      "[84]\tvalidation_0-logloss:0.53713\n",
      "[85]\tvalidation_0-logloss:0.53704\n",
      "[86]\tvalidation_0-logloss:0.53699\n",
      "[87]\tvalidation_0-logloss:0.53705\n",
      "[88]\tvalidation_0-logloss:0.53706\n",
      "[89]\tvalidation_0-logloss:0.53701\n",
      "[90]\tvalidation_0-logloss:0.53705\n",
      "[91]\tvalidation_0-logloss:0.53716\n",
      "[92]\tvalidation_0-logloss:0.53713\n",
      "[93]\tvalidation_0-logloss:0.53714\n",
      "[94]\tvalidation_0-logloss:0.53716\n",
      "[95]\tvalidation_0-logloss:0.53716\n",
      "[96]\tvalidation_0-logloss:0.53727\n",
      "[97]\tvalidation_0-logloss:0.53728\n",
      "[98]\tvalidation_0-logloss:0.53742\n",
      "[99]\tvalidation_0-logloss:0.53745\n",
      "[100]\tvalidation_0-logloss:0.53744\n",
      "[101]\tvalidation_0-logloss:0.53754\n",
      "[102]\tvalidation_0-logloss:0.53744\n",
      "[103]\tvalidation_0-logloss:0.53755\n",
      "[104]\tvalidation_0-logloss:0.53773\n",
      "[105]\tvalidation_0-logloss:0.53779\n",
      "[106]\tvalidation_0-logloss:0.53776\n",
      "[107]\tvalidation_0-logloss:0.53782\n",
      "[108]\tvalidation_0-logloss:0.53768\n",
      "[109]\tvalidation_0-logloss:0.53762\n",
      "[110]\tvalidation_0-logloss:0.53760\n",
      "[111]\tvalidation_0-logloss:0.53761\n",
      "[112]\tvalidation_0-logloss:0.53760\n",
      "[113]\tvalidation_0-logloss:0.53770\n",
      "[114]\tvalidation_0-logloss:0.53761\n",
      "[115]\tvalidation_0-logloss:0.53767\n",
      "[116]\tvalidation_0-logloss:0.53756\n",
      "[117]\tvalidation_0-logloss:0.53770\n",
      "[118]\tvalidation_0-logloss:0.53747\n",
      "[119]\tvalidation_0-logloss:0.53751\n",
      "[120]\tvalidation_0-logloss:0.53762\n",
      "[121]\tvalidation_0-logloss:0.53766\n",
      "[122]\tvalidation_0-logloss:0.53762\n",
      "[123]\tvalidation_0-logloss:0.53773\n",
      "[124]\tvalidation_0-logloss:0.53779\n",
      "[125]\tvalidation_0-logloss:0.53784\n",
      "[126]\tvalidation_0-logloss:0.53783\n",
      "[127]\tvalidation_0-logloss:0.53763\n",
      "[128]\tvalidation_0-logloss:0.53762\n",
      "[129]\tvalidation_0-logloss:0.53773\n",
      "[130]\tvalidation_0-logloss:0.53773\n",
      "[131]\tvalidation_0-logloss:0.53783\n",
      "[132]\tvalidation_0-logloss:0.53788\n",
      "[133]\tvalidation_0-logloss:0.53787\n",
      "[134]\tvalidation_0-logloss:0.53780\n",
      "[135]\tvalidation_0-logloss:0.53785\n",
      "[136]\tvalidation_0-logloss:0.53776\n",
      "[137]\tvalidation_0-logloss:0.53782\n",
      "[138]\tvalidation_0-logloss:0.53778\n",
      "[139]\tvalidation_0-logloss:0.53783\n",
      "[140]\tvalidation_0-logloss:0.53782\n",
      "[141]\tvalidation_0-logloss:0.53798\n",
      "[142]\tvalidation_0-logloss:0.53799\n",
      "[143]\tvalidation_0-logloss:0.53800\n",
      "[144]\tvalidation_0-logloss:0.53811\n",
      "[145]\tvalidation_0-logloss:0.53817\n",
      "[146]\tvalidation_0-logloss:0.53830\n",
      "[147]\tvalidation_0-logloss:0.53836\n",
      "[148]\tvalidation_0-logloss:0.53843\n",
      "[149]\tvalidation_0-logloss:0.53847\n",
      "[150]\tvalidation_0-logloss:0.53845\n",
      "[151]\tvalidation_0-logloss:0.53849\n",
      "[152]\tvalidation_0-logloss:0.53851\n",
      "[153]\tvalidation_0-logloss:0.53863\n",
      "[154]\tvalidation_0-logloss:0.53873\n",
      "[155]\tvalidation_0-logloss:0.53865\n",
      "[156]\tvalidation_0-logloss:0.53864\n",
      "[157]\tvalidation_0-logloss:0.53873\n",
      "[158]\tvalidation_0-logloss:0.53874\n",
      "[159]\tvalidation_0-logloss:0.53885\n"
     ]
    }
   ],
   "source": [
    "# XGBoost training\n",
    "\n",
    "evals = [(x_val, y_val)]\n",
    "\n",
    "xgb_wrapper = XGBClassifier(n_estimators=400, learning_rate=0.1, max_depth=3)\n",
    "xgb_wrapper.fit(x_train , y_train,  early_stopping_rounds=100, eval_set=evals, eval_metric=\"logloss\",  verbose=True)\n",
    "\n",
    "y_preds = xgb_wrapper.predict(x_test)\n",
    "y_pred_proba = xgb_wrapper.predict_proba(x_test)[:, 1]"
   ]
  },
  {
   "cell_type": "code",
   "execution_count": 7,
   "metadata": {},
   "outputs": [
    {
     "name": "stdout",
     "output_type": "stream",
     "text": [
      "오차 행렬\n",
      "[[1145  465]\n",
      " [ 486 1104]]\n",
      "정확도: 0.7028, 정밀도: 0.7036, 재현율: 0.6943,    F1: 0.6990, AUC:0.7915\n"
     ]
    }
   ],
   "source": [
    "get_clf_eval(y_test, y_preds, y_pred_proba)"
   ]
  }
 ],
 "metadata": {
  "interpreter": {
   "hash": "2c29f24f490fc11ce1e48d89a3d8a10c86c424066fbebe55fdecaa30f8bedbaf"
  },
  "kernelspec": {
   "display_name": "Python 3.8.3 64-bit ('venv': venv)",
   "language": "python",
   "name": "python3"
  },
  "language_info": {
   "codemirror_mode": {
    "name": "ipython",
    "version": 3
   },
   "file_extension": ".py",
   "mimetype": "text/x-python",
   "name": "python",
   "nbconvert_exporter": "python",
   "pygments_lexer": "ipython3",
   "version": "3.8.3"
  },
  "orig_nbformat": 4
 },
 "nbformat": 4,
 "nbformat_minor": 2
}
